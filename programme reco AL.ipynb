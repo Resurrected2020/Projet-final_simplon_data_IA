{
 "cells": [
  {
   "cell_type": "markdown",
   "metadata": {},
   "source": [
    "# Code final pour obtenir les recommendations pour un groupe donné. "
   ]
  },
  {
   "cell_type": "code",
   "execution_count": 1,
   "metadata": {},
   "outputs": [],
   "source": [
    "import pandas as pd\n",
    "from selenium import webdriver\n",
    "import numpy as np\n",
    "import time\n",
    "from sklearn.feature_extraction.text import CountVectorizer\n",
    "from nltk.corpus import stopwords\n",
    "import re\n",
    "import string\n",
    "from nltk.stem import WordNetLemmatizer\n",
    "from nltk import word_tokenize\n",
    "from nltk.corpus import stopwords\n",
    "import operator\n",
    "from sklearn.feature_extraction.text import CountVectorizer\n",
    "from sklearn.metrics.pairwise import cosine_similarity"
   ]
  },
  {
   "cell_type": "code",
   "execution_count": 2,
   "metadata": {},
   "outputs": [],
   "source": [
    "\"\"\"\n",
    "Récupération de tous les Dataframes finaux issus du scraping et leur concaténation dans un DataFrame final qui\n",
    "sera utilisé dans le programme. \n",
    "\"\"\"\n",
    "\n",
    "\n",
    "path=\"C:/Users/Utilisateur/Dropbox/Formation professionnelle IA/Projet Final/dataset final/\"\n",
    "df1=pd.read_csv(path+\"final1.csv\")\n",
    "df2=pd.read_csv(path+\"final2.csv\")\n",
    "df3,df4=pd.read_csv(path+\"final3.csv\"),pd.read_csv(path+\"final4.csv\")\n",
    "df5,df6=pd.read_csv(path+\"final5.csv\"),pd.read_csv(path+\"final6.csv\")\n",
    "df7,df8=pd.read_csv(path+\"final7.csv\"),pd.read_csv(path+\"final8.csv\")\n",
    "df9,df10=pd.read_csv(path+\"final9.csv\"),pd.read_csv(path+\"final10.csv\")\n",
    "df11,df12=pd.read_csv(path+\"final11.csv\"),pd.read_csv(path+\"final12.csv\")\n",
    "df13,df14,df15=pd.read_csv(path+\"final13.csv\"),pd.read_csv(path+\"final14.csv\"),pd.read_csv(path+\"final15.csv\")\n",
    "df16,df17,df18=pd.read_csv(path+\"final16.csv\"),pd.read_csv(path+\"final17.csv\"),pd.read_csv(path+\"final18.csv\")\n",
    "\n",
    "df123=pd.concat([df1,df2,df3],ignore_index=True)\n",
    "df456=pd.concat([df4,df5,df6],ignore_index=True)\n",
    "df789=pd.concat([df7,df8,df9],ignore_index=True)\n",
    "df101112=pd.concat([df10,df11,df12],ignore_index=True)\n",
    "df131415=pd.concat([df13,df14,df15],ignore_index=True)\n",
    "df161718=pd.concat([df16,df17,df18],ignore_index=True)\n"
   ]
  },
  {
   "cell_type": "code",
   "execution_count": 3,
   "metadata": {},
   "outputs": [
    {
     "data": {
      "text/plain": [
       "(683, 8)"
      ]
     },
     "execution_count": 3,
     "metadata": {},
     "output_type": "execute_result"
    }
   ],
   "source": [
    "dfinal=pd.concat([df123,df456,df789,df101112,df131415,df161718],ignore_index=True)\n",
    "dfinal.shape"
   ]
  },
  {
   "cell_type": "code",
   "execution_count": 4,
   "metadata": {},
   "outputs": [],
   "source": [
    "#Code pour le preprocessing des colonnes \"lyrical themes\" et \"genre\"\n",
    "\n",
    "stop = stopwords.words('english')\n",
    "stop_words_ = set(stopwords.words('english'))\n",
    "wn = WordNetLemmatizer()\n",
    "\n",
    "def black_txt(token):\n",
    "    return  token not in stop_words_ and token not in list(string.punctuation)  and len(token)>2   \n",
    "  \n",
    "def clean_txt(text):\n",
    "    clean_text = []\n",
    "    clean_text2 = []\n",
    "    text = re.sub(\"'\", \"\",text)\n",
    "    text=re.sub(\"(\\\\d|\\\\W)+\",\" \",text) \n",
    "    #text = text.replace(\"nbsp\", \"\")\n",
    "    clean_text = [ wn.lemmatize(word, pos=\"v\") for word in word_tokenize(text.lower()) if black_txt(word)]\n",
    "    clean_text2 = [word for word in clean_text if black_txt(word)]\n",
    "    return \" \".join(clean_text2)\n"
   ]
  },
  {
   "cell_type": "code",
   "execution_count": 5,
   "metadata": {},
   "outputs": [],
   "source": [
    "#Transformation des valeurs nulles dans la colonne \"lyrical themes\"\n",
    "\n",
    "dfinal['lyrical themes']=dfinal['lyrical themes'].fillna(\"unknown\")"
   ]
  },
  {
   "cell_type": "code",
   "execution_count": 6,
   "metadata": {},
   "outputs": [],
   "source": [
    "#Suppression des colonnes aux résultats incertains après copie du DataFrame final. \n",
    "\n",
    "erreur=list(dfinal[dfinal['favoris']>=100]['nom'])\n",
    "index_delete=[]\n",
    "df2=dfinal.copy()\n",
    "for i in range(len(erreur)):\n",
    "    elem=list(dfinal[dfinal[\"nom\"]==erreur[i]].index)[0]\n",
    "    df2.drop([elem],0,inplace=True)\n",
    "df2=df2.reset_index(drop=True)"
   ]
  },
  {
   "cell_type": "code",
   "execution_count": 7,
   "metadata": {},
   "outputs": [],
   "source": [
    "\n",
    "\n",
    "def meilleurs_reco_lyrics(elem,nombre_de_reco):\n",
    "    lyrics2=df2.copy()\n",
    "    lyrics2[\"lyrical themes\"]=lyrics2[\"lyrical themes\"].apply(clean_txt)\n",
    "    vectorizer = CountVectorizer()\n",
    "    X_lyrics= vectorizer.fit_transform((lyrics2['lyrical themes']))\n",
    "    cosine_sim = cosine_similarity(X_lyrics)\n",
    "    elem_index=lyrics2[lyrics2[\"nom\"]==elem].index\n",
    "    similar_movies = list(cosine_sim[elem_index][0])\n",
    "    a=lyrics2[\"nom\"]\n",
    "    b=similar_movies\n",
    "    sim={a[i]:b[j] for i in range(len(a)) for j in range(len(b)) if i==j}\n",
    "    sortedDict = sorted(sim.items(), key=operator.itemgetter(1),reverse=True)\n",
    "    sortedDict=[i for i in sortedDict if i[1]!=0]\n",
    "    return sortedDict[1:nombre_de_reco+1]"
   ]
  },
  {
   "cell_type": "code",
   "execution_count": 8,
   "metadata": {},
   "outputs": [],
   "source": [
    "\n",
    "def meilleurs_reco_genre(elem,nombre_de_reco):\n",
    "    genre2=df2.copy()\n",
    "    genre2[\"genre\"]=genre2[\"genre\"].apply(clean_txt)\n",
    "    vectorizer = CountVectorizer()\n",
    "    X_genre= vectorizer.fit_transform((genre2['genre']))\n",
    "    cosine_sim = cosine_similarity(X_genre)\n",
    "    elem_index=genre2[genre2[\"nom\"]==elem].index\n",
    "    similar_movies = list(cosine_sim[elem_index][0])\n",
    "    a=genre2[\"nom\"]\n",
    "    b=similar_movies\n",
    "    sim={a[i]:b[j] for i in range(len(a)) for j in range(len(b)) if i==j}\n",
    "    sortedDict = sorted(sim.items(), key=operator.itemgetter(1),reverse=True)\n",
    "    sortedDict=[i for i in sortedDict if i[1]!=0]\n",
    "    return sortedDict[1:nombre_de_reco+1]"
   ]
  },
  {
   "cell_type": "code",
   "execution_count": 9,
   "metadata": {},
   "outputs": [
    {
     "name": "stdout",
     "output_type": "stream",
     "text": [
      "Veuillez entrer votre groupe avec des majuscules au début de chaque mot:Kataklysm\n",
      "Combien de recommandations voulez-vous ?10\n",
      "Voici vos recommandations basées sur les paroles de Kataklysm : ['Arafel', 'Khors', 'Arghoslent', 'Grave Digger', 'Iced Earth', 'Tierra Santa', 'Abbath', 'ADX', 'Supuration', 'Oranssi Pazuzu']\n",
      "Voici vos recommandations basées sur le genre de Kataklysm : ['Miseration', 'Illdisposed', 'Blood Stain Child', 'Anterior', 'Arghoslent', \"Be'lakor\", 'Dark Tranquillity', 'Tracedawn', 'Mors Principium Est', 'Aborted']\n"
     ]
    }
   ],
   "source": [
    "noms=list(df2[\"nom\"])\n",
    "elem=input(\"Veuillez entrer votre groupe avec des majuscules au début de chaque mot:\")\n",
    "if elem not in noms:\n",
    "    print(\"Ce groupe n'est pas disponible. Veuillez réessayer!!!\")\n",
    "    elem=input(\"Veuillez entrer votre groupe:\")\n",
    "    \n",
    "n=int(input(\"Combien de recommandations voulez-vous ?\"))\n",
    "b=list(df2[df2[\"nom\"]==elem][\"lyrical themes\"])[0]\n",
    "if b!=\"unknown\":\n",
    "    resultat3=meilleurs_reco_lyrics(elem,n)\n",
    "    resultat4=meilleurs_reco_genre(elem,n)\n",
    "    liste1=[resultat3[i][0] for i in range(len(resultat3))]\n",
    "    liste2=[resultat4[i][0] for i in range(len(resultat4))]\n",
    "    print(\"Voici vos recommandations basées sur les paroles de\",elem,\":\",liste1)\n",
    "    print(\"Voici vos recommandations basées sur le genre de\",elem,\":\",liste2)\n",
    "else:\n",
    "    resultat4=meilleurs_reco_genre(elem,n)\n",
    "    liste2=[resultat4[i][0] for i in range(len(resultat4))]\n",
    "    print(\"Voici vos recommandations basées sur le genre de\",elem,\":\",liste2)"
   ]
  },
  {
   "cell_type": "code",
   "execution_count": null,
   "metadata": {},
   "outputs": [],
   "source": []
  }
 ],
 "metadata": {
  "kernelspec": {
   "display_name": "Python 3",
   "language": "python",
   "name": "python3"
  },
  "language_info": {
   "codemirror_mode": {
    "name": "ipython",
    "version": 3
   },
   "file_extension": ".py",
   "mimetype": "text/x-python",
   "name": "python",
   "nbconvert_exporter": "python",
   "pygments_lexer": "ipython3",
   "version": "3.7.6"
  }
 },
 "nbformat": 4,
 "nbformat_minor": 4
}
