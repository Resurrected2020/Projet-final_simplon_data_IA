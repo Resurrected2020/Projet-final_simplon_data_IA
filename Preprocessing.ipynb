{
 "cells": [
  {
   "cell_type": "code",
   "execution_count": 1,
   "metadata": {},
   "outputs": [],
   "source": [
    "import pandas as pd"
   ]
  },
  {
   "cell_type": "markdown",
   "metadata": {},
   "source": [
    "# Concaténation des Dataframes"
   ]
  },
  {
   "cell_type": "code",
   "execution_count": 2,
   "metadata": {},
   "outputs": [],
   "source": [
    "path=\"C:/Users/Utilisateur/Dropbox/Formation professionnelle IA/Projet Final/dataset final/\"\n",
    "df1=pd.read_csv(path+\"final1.csv\")\n",
    "df2=pd.read_csv(path+\"final2.csv\")\n",
    "df3,df4=pd.read_csv(path+\"final3.csv\"),pd.read_csv(path+\"final4.csv\")\n",
    "df5,df6=pd.read_csv(path+\"final5.csv\"),pd.read_csv(path+\"final6.csv\")\n",
    "df7,df8=pd.read_csv(path+\"final7.csv\"),pd.read_csv(path+\"final8.csv\")\n",
    "df9,df10=pd.read_csv(path+\"final9.csv\"),pd.read_csv(path+\"final10.csv\")\n",
    "df11,df12=pd.read_csv(path+\"final11.csv\"),pd.read_csv(path+\"final12.csv\")\n",
    "df13=pd.read_csv(path+\"final13.csv\")\n",
    "\n",
    "df123=pd.concat([df1,df2,df3],ignore_index=True)\n",
    "df456=pd.concat([df4,df5,df6],ignore_index=True)\n",
    "df789=pd.concat([df7,df8,df9],ignore_index=True)\n",
    "df101112=pd.concat([df10,df11,df12],ignore_index=True)"
   ]
  },
  {
   "cell_type": "code",
   "execution_count": 3,
   "metadata": {},
   "outputs": [
    {
     "data": {
      "text/plain": [
       "494"
      ]
     },
     "execution_count": 3,
     "metadata": {},
     "output_type": "execute_result"
    }
   ],
   "source": [
    "nombre=df1.shape[0]+df2.shape[0]+df3.shape[0]\n",
    "nombre2=df4.shape[0]+df5.shape[0]+df6.shape[0]\n",
    "nombre3=df7.shape[0]+df8.shape[0]+df9.shape[0]\n",
    "nombre4=df10.shape[0]+df11.shape[0]+df12.shape[0]\n",
    "nombre5=df13.shape[0]\n",
    "somme=nombre+nombre2+nombre3+nombre4+nombre5\n",
    "somme"
   ]
  },
  {
   "cell_type": "markdown",
   "metadata": {},
   "source": [
    "# Vérification scraping "
   ]
  },
  {
   "cell_type": "code",
   "execution_count": 4,
   "metadata": {},
   "outputs": [
    {
     "data": {
      "text/plain": [
       "['30 Seconds To Mars',\n",
       " 'A Different Breed Of Killer',\n",
       " 'A Perfect Circle',\n",
       " 'AC-DC',\n",
       " 'Aerosmith',\n",
       " 'Agalloch',\n",
       " 'Airbourne',\n",
       " 'Alcest',\n",
       " 'Alestorm',\n",
       " 'Alice Cooper',\n",
       " 'Amon Amarth',\n",
       " 'Anthrax',\n",
       " 'Apocalyptica']"
      ]
     },
     "execution_count": 4,
     "metadata": {},
     "output_type": "execute_result"
    }
   ],
   "source": [
    "df1['lyrical themes']=df1['lyrical themes'].fillna(\"Non\")\n",
    "erreur=list(df123[df123['favoris']>=100]['nom'])\n",
    "erreur"
   ]
  },
  {
   "cell_type": "code",
   "execution_count": 5,
   "metadata": {},
   "outputs": [
    {
     "data": {
      "text/html": [
       "<div>\n",
       "<style scoped>\n",
       "    .dataframe tbody tr th:only-of-type {\n",
       "        vertical-align: middle;\n",
       "    }\n",
       "\n",
       "    .dataframe tbody tr th {\n",
       "        vertical-align: top;\n",
       "    }\n",
       "\n",
       "    .dataframe thead th {\n",
       "        text-align: right;\n",
       "    }\n",
       "</style>\n",
       "<table border=\"1\" class=\"dataframe\">\n",
       "  <thead>\n",
       "    <tr style=\"text-align: right;\">\n",
       "      <th></th>\n",
       "      <th>nom</th>\n",
       "      <th>pays</th>\n",
       "      <th>statut</th>\n",
       "      <th>genre</th>\n",
       "      <th>years</th>\n",
       "      <th>lyrical themes</th>\n",
       "      <th>note moyenne</th>\n",
       "      <th>favoris</th>\n",
       "    </tr>\n",
       "  </thead>\n",
       "  <tbody>\n",
       "    <tr>\n",
       "      <th>0</th>\n",
       "      <td>12 Stones</td>\n",
       "      <td>Etats-Unis</td>\n",
       "      <td>Actif</td>\n",
       "      <td>Metal Alternatif</td>\n",
       "      <td>2000</td>\n",
       "      <td>unknown</td>\n",
       "      <td>6.40</td>\n",
       "      <td>4</td>\n",
       "    </tr>\n",
       "    <tr>\n",
       "      <th>1</th>\n",
       "      <td>12012</td>\n",
       "      <td>Japon</td>\n",
       "      <td>Split-Up</td>\n",
       "      <td>Visual Kei</td>\n",
       "      <td>2003</td>\n",
       "      <td>unknown</td>\n",
       "      <td>6.56</td>\n",
       "      <td>2</td>\n",
       "    </tr>\n",
       "    <tr>\n",
       "      <th>2</th>\n",
       "      <td>1349</td>\n",
       "      <td>Norway</td>\n",
       "      <td>Active</td>\n",
       "      <td>Black Metal</td>\n",
       "      <td>1997-</td>\n",
       "      <td>Anti-religion, Apocalypse, Darkness</td>\n",
       "      <td>6.63</td>\n",
       "      <td>15</td>\n",
       "    </tr>\n",
       "    <tr>\n",
       "      <th>3</th>\n",
       "      <td>25 Ta Life</td>\n",
       "      <td>Etats-Unis</td>\n",
       "      <td>Actif</td>\n",
       "      <td>Hardcore</td>\n",
       "      <td>1992</td>\n",
       "      <td>unknown</td>\n",
       "      <td>6.78</td>\n",
       "      <td>32</td>\n",
       "    </tr>\n",
       "    <tr>\n",
       "      <th>4</th>\n",
       "      <td>30 Seconds To Mars</td>\n",
       "      <td>Etats-Unis</td>\n",
       "      <td>Actif</td>\n",
       "      <td>Metal Alternatif</td>\n",
       "      <td>1998</td>\n",
       "      <td>unknown</td>\n",
       "      <td>7.27</td>\n",
       "      <td>307</td>\n",
       "    </tr>\n",
       "    <tr>\n",
       "      <th>...</th>\n",
       "      <td>...</td>\n",
       "      <td>...</td>\n",
       "      <td>...</td>\n",
       "      <td>...</td>\n",
       "      <td>...</td>\n",
       "      <td>...</td>\n",
       "      <td>...</td>\n",
       "      <td>...</td>\n",
       "    </tr>\n",
       "    <tr>\n",
       "      <th>118</th>\n",
       "      <td>Aosoth</td>\n",
       "      <td>France</td>\n",
       "      <td>Unknown</td>\n",
       "      <td>Black Metal</td>\n",
       "      <td>2002-?</td>\n",
       "      <td>Satanism, Death, Darkness</td>\n",
       "      <td>7.00</td>\n",
       "      <td>8</td>\n",
       "    </tr>\n",
       "    <tr>\n",
       "      <th>119</th>\n",
       "      <td>Apocalyptica</td>\n",
       "      <td>Finland</td>\n",
       "      <td>Active</td>\n",
       "      <td>Symphonic Heavy Metal/Rock</td>\n",
       "      <td>1993-</td>\n",
       "      <td>Mostly instrumental, Love, Relationship issues</td>\n",
       "      <td>7.02</td>\n",
       "      <td>142</td>\n",
       "    </tr>\n",
       "    <tr>\n",
       "      <th>120</th>\n",
       "      <td>AqME</td>\n",
       "      <td>France</td>\n",
       "      <td>Split-Up</td>\n",
       "      <td>Metal Alternatif</td>\n",
       "      <td>1999</td>\n",
       "      <td>unknown</td>\n",
       "      <td>6.99</td>\n",
       "      <td>53</td>\n",
       "    </tr>\n",
       "    <tr>\n",
       "      <th>121</th>\n",
       "      <td>Arafel</td>\n",
       "      <td>Israel</td>\n",
       "      <td>Unknown</td>\n",
       "      <td>Folk Black Metal</td>\n",
       "      <td>1997-?</td>\n",
       "      <td>Legends, Fantasy, Mysticism, Abstract themes, ...</td>\n",
       "      <td>6.99</td>\n",
       "      <td>0</td>\n",
       "    </tr>\n",
       "    <tr>\n",
       "      <th>122</th>\n",
       "      <td>Arcana</td>\n",
       "      <td>Sweden</td>\n",
       "      <td>On hold</td>\n",
       "      <td>Neoclassical Darkwave</td>\n",
       "      <td>1993-</td>\n",
       "      <td>Worship and Love in Medieval Ages</td>\n",
       "      <td>6.99</td>\n",
       "      <td>6</td>\n",
       "    </tr>\n",
       "  </tbody>\n",
       "</table>\n",
       "<p>123 rows × 8 columns</p>\n",
       "</div>"
      ],
      "text/plain": [
       "                    nom        pays    statut                       genre  \\\n",
       "0             12 Stones  Etats-Unis     Actif            Metal Alternatif   \n",
       "1                 12012       Japon  Split-Up                  Visual Kei   \n",
       "2                  1349      Norway    Active                 Black Metal   \n",
       "3            25 Ta Life  Etats-Unis     Actif                    Hardcore   \n",
       "4    30 Seconds To Mars  Etats-Unis     Actif            Metal Alternatif   \n",
       "..                  ...         ...       ...                         ...   \n",
       "118              Aosoth      France   Unknown                 Black Metal   \n",
       "119        Apocalyptica     Finland    Active  Symphonic Heavy Metal/Rock   \n",
       "120                AqME      France  Split-Up            Metal Alternatif   \n",
       "121              Arafel      Israel   Unknown            Folk Black Metal   \n",
       "122              Arcana      Sweden   On hold       Neoclassical Darkwave   \n",
       "\n",
       "      years                                     lyrical themes  note moyenne  \\\n",
       "0      2000                                            unknown          6.40   \n",
       "1      2003                                            unknown          6.56   \n",
       "2     1997-                Anti-religion, Apocalypse, Darkness          6.63   \n",
       "3      1992                                            unknown          6.78   \n",
       "4      1998                                            unknown          7.27   \n",
       "..      ...                                                ...           ...   \n",
       "118  2002-?                          Satanism, Death, Darkness          7.00   \n",
       "119   1993-     Mostly instrumental, Love, Relationship issues          7.02   \n",
       "120    1999                                            unknown          6.99   \n",
       "121  1997-?  Legends, Fantasy, Mysticism, Abstract themes, ...          6.99   \n",
       "122   1993-                  Worship and Love in Medieval Ages          6.99   \n",
       "\n",
       "     favoris  \n",
       "0          4  \n",
       "1          2  \n",
       "2         15  \n",
       "3         32  \n",
       "4        307  \n",
       "..       ...  \n",
       "118        8  \n",
       "119      142  \n",
       "120       53  \n",
       "121        0  \n",
       "122        6  \n",
       "\n",
       "[123 rows x 8 columns]"
      ]
     },
     "execution_count": 5,
     "metadata": {},
     "output_type": "execute_result"
    }
   ],
   "source": [
    "df123['lyrical themes']=df123['lyrical themes'].fillna(\"unknown\")\n",
    "df123"
   ]
  },
  {
   "cell_type": "code",
   "execution_count": 6,
   "metadata": {},
   "outputs": [
    {
     "data": {
      "text/plain": [
       "nom               0\n",
       "pays              0\n",
       "statut            0\n",
       "genre             0\n",
       "years             0\n",
       "lyrical themes    0\n",
       "note moyenne      0\n",
       "favoris           0\n",
       "dtype: int64"
      ]
     },
     "execution_count": 6,
     "metadata": {},
     "output_type": "execute_result"
    }
   ],
   "source": [
    "#Vérification des valeurs manquantes\n",
    "df123.isna().sum()"
   ]
  },
  {
   "cell_type": "code",
   "execution_count": 7,
   "metadata": {},
   "outputs": [
    {
     "name": "stderr",
     "output_type": "stream",
     "text": [
      "[nltk_data] Downloading package punkt to\n",
      "[nltk_data]     C:\\Users\\Utilisateur\\AppData\\Roaming\\nltk_data...\n",
      "[nltk_data]   Package punkt is already up-to-date!\n"
     ]
    },
    {
     "data": {
      "text/plain": [
       "True"
      ]
     },
     "execution_count": 7,
     "metadata": {},
     "output_type": "execute_result"
    }
   ],
   "source": [
    "import nltk\n",
    "nltk.download('punkt')"
   ]
  },
  {
   "cell_type": "code",
   "execution_count": 8,
   "metadata": {},
   "outputs": [
    {
     "name": "stderr",
     "output_type": "stream",
     "text": [
      "[nltk_data] Downloading package wordnet to\n",
      "[nltk_data]     C:\\Users\\Utilisateur\\AppData\\Roaming\\nltk_data...\n",
      "[nltk_data]   Package wordnet is already up-to-date!\n"
     ]
    },
    {
     "data": {
      "text/plain": [
       "True"
      ]
     },
     "execution_count": 8,
     "metadata": {},
     "output_type": "execute_result"
    }
   ],
   "source": [
    "nltk.download('wordnet')"
   ]
  },
  {
   "cell_type": "code",
   "execution_count": 9,
   "metadata": {},
   "outputs": [],
   "source": [
    "#enlever les stopwords\n",
    "from nltk.corpus import stopwords \n",
    "from nltk.tokenize import word_tokenize \n",
    "  \n",
    "# remove stopwords function \n",
    "def remove_stopwords(text): \n",
    "    stop_words = set(stopwords.words(\"english\")) \n",
    "    word_tokens = word_tokenize(text) \n",
    "    filtered_text = [word for word in word_tokens if word not in stop_words] \n",
    "    return filtered_text \n",
    "\n",
    " \n"
   ]
  },
  {
   "cell_type": "code",
   "execution_count": 10,
   "metadata": {},
   "outputs": [],
   "source": [
    "\n",
    "from nltk.stem import WordNetLemmatizer \n",
    "from nltk.tokenize import word_tokenize \n",
    "lemmatizer = WordNetLemmatizer() \n",
    "# lemmatize string \n",
    "def lemmatize_word(text): \n",
    "    word_tokens = word_tokenize(text) \n",
    "    # provide context i.e. part-of-speech \n",
    "    lemmas = [lemmatizer.lemmatize(word, pos ='v') for word in word_tokens] \n",
    "    return lemmas \n",
    "text=df123['lyrical themes'][122]\n",
    "abc=lemmatize_word(text)\n",
    "\n",
    " \n"
   ]
  },
  {
   "cell_type": "code",
   "execution_count": 32,
   "metadata": {},
   "outputs": [],
   "source": [
    "def nettoyage_lyrics(elem):\n",
    "    elem=elem.lower()\n",
    "    elem= elem.replace(\",\",\"\")\n",
    "    elem=\" \".join(elem.split())\n",
    "    elem=remove_stopwords(elem)\n",
    "\n",
    "    liste2=[]\n",
    "    for i in elem:\n",
    "        b=lemmatize_word(i)\n",
    "        liste2.append(i)\n",
    "    return liste2"
   ]
  },
  {
   "cell_type": "code",
   "execution_count": 33,
   "metadata": {},
   "outputs": [
    {
     "data": {
      "text/plain": [
       "'Worship and Love in Medieval Ages'"
      ]
     },
     "execution_count": 33,
     "metadata": {},
     "output_type": "execute_result"
    }
   ],
   "source": [
    "elem=df123['lyrical themes'][122]\n",
    "elem"
   ]
  },
  {
   "cell_type": "code",
   "execution_count": 37,
   "metadata": {},
   "outputs": [
    {
     "data": {
      "text/plain": [
       "['worship', 'love', 'medieval', 'ages']"
      ]
     },
     "execution_count": 37,
     "metadata": {},
     "output_type": "execute_result"
    }
   ],
   "source": [
    "elem2=nettoyage_lyrics(elem)\n",
    "elem2"
   ]
  },
  {
   "cell_type": "code",
   "execution_count": null,
   "metadata": {},
   "outputs": [],
   "source": [
    "from sklearn.feature_extraction.text import TfidfVectorizer\n",
    "from sklearn.metrics.pairwise import linear_kernel "
   ]
  },
  {
   "cell_type": "markdown",
   "metadata": {},
   "source": [
    "import nltk\n",
    "tokenizer = nltk.RegexpTokenizer(r\"\\w+\")\n",
    "\n",
    "new_words = tokenizer.tokenize(elem)\n",
    "\n",
    "\n",
    "print(new_words)"
   ]
  },
  {
   "cell_type": "code",
   "execution_count": null,
   "metadata": {},
   "outputs": [],
   "source": [
    "#df123[\"lyrical themes\"]=df123[\"lyrical themes\"].apply(nettoyage_lyrics)"
   ]
  },
  {
   "cell_type": "code",
   "execution_count": null,
   "metadata": {},
   "outputs": [],
   "source": [
    "#df123['lyrical themes'][20:40]"
   ]
  },
  {
   "cell_type": "code",
   "execution_count": null,
   "metadata": {},
   "outputs": [],
   "source": []
  }
 ],
 "metadata": {
  "kernelspec": {
   "display_name": "Python 3",
   "language": "python",
   "name": "python3"
  },
  "language_info": {
   "codemirror_mode": {
    "name": "ipython",
    "version": 3
   },
   "file_extension": ".py",
   "mimetype": "text/x-python",
   "name": "python",
   "nbconvert_exporter": "python",
   "pygments_lexer": "ipython3",
   "version": "3.7.6"
  }
 },
 "nbformat": 4,
 "nbformat_minor": 4
}
